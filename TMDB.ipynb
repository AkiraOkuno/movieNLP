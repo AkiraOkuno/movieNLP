{
 "cells": [
  {
   "cell_type": "code",
   "execution_count": 55,
   "metadata": {},
   "outputs": [],
   "source": [
    "import json\n",
    "import pandas as pd\n",
    "import requests\n",
    "from tqdm import tqdm"
   ]
  },
  {
   "cell_type": "code",
   "execution_count": 69,
   "metadata": {},
   "outputs": [],
   "source": [
    "API_KEY='c8025e44fb033c11205e040985474348'\n",
    "# add link"
   ]
  },
  {
   "cell_type": "code",
   "execution_count": 72,
   "metadata": {},
   "outputs": [],
   "source": [
    "df=pd.read_json('../DATA/TMDB_movie_ids_02_06_2022.json',lines=True)"
   ]
  },
  {
   "cell_type": "code",
   "execution_count": 73,
   "metadata": {},
   "outputs": [],
   "source": [
    "def request_url(movie_id,\n",
    "                API_KEY=API_KEY,\n",
    "                lang='pt-BR'):\n",
    "    req = 'https://api.themoviedb.org/3/movie/'+str(movie_id)+'?api_key='+API_KEY+'&language='+lang\n",
    "    return(requests.get(req))"
   ]
  },
  {
   "cell_type": "code",
   "execution_count": 62,
   "metadata": {},
   "outputs": [],
   "source": [
    "def process_request(json_file):\n",
    "    file = json.loads(json_file.text)\n",
    "    info = [file['adult'],\n",
    "            [genre['name'] for genre in file['genres']],\n",
    "            file['overview'],\n",
    "            file['title'],\n",
    "            file['vote_average'],\n",
    "            file['vote_count'],\n",
    "            file['runtime'],\n",
    "            file['release_date']\n",
    "           ]\n",
    "    return(info)"
   ]
  },
  {
   "cell_type": "code",
   "execution_count": null,
   "metadata": {},
   "outputs": [
    {
     "name": "stderr",
     "output_type": "stream",
     "text": [
      "  4%|██▌                                                                   | 24545/677836 [1:28:04<38:54:26,  4.66it/s]"
     ]
    }
   ],
   "source": [
    "#info_list = [process_request(request_url(id)) for id in df.id[:3]]\n",
    "\n",
    "info_list=[]\n",
    "for movieid in tqdm(df.id):\n",
    "    try:\n",
    "        info_list.append(process_request(request_url(movieid,lang='en')))\n",
    "        #info_list.append(request_url(movieid,lang='en'))\n",
    "    except:\n",
    "        info_list.append(None)\n",
    "        print('Erro em '+str(movieid))"
   ]
  },
  {
   "cell_type": "code",
   "execution_count": 48,
   "metadata": {},
   "outputs": [],
   "source": [
    "dfinfo = pd.DataFrame(info_list)\n",
    "dfinfo.columns=['adult','genres','overview','title','vote_average',\n",
    "                'vote_count','runtime','release_date']\n",
    "dfinfo = pd.concat([dfinfo,pd.get_dummies(dfinfo['genres'].apply(pd.Series).stack()).sum(level=0)],axis=1)\n",
    "dfinfo = dfinfo.drop(columns=['genres'])"
   ]
  },
  {
   "cell_type": "code",
   "execution_count": null,
   "metadata": {},
   "outputs": [],
   "source": [
    "dfinfo.to_csv('TMDB_full.csv')"
   ]
  },
  {
   "cell_type": "code",
   "execution_count": 51,
   "metadata": {},
   "outputs": [],
   "source": [
    "dfinfo2 = dfinfo[dfinfo.overview!='']\n",
    "dfinfo2 = dfinfo2[~dfinfo2.overview.isnull()]\n",
    "dfinfo2 = dfinfo2.reset_index().drop(columns=['index'])"
   ]
  },
  {
   "cell_type": "code",
   "execution_count": null,
   "metadata": {},
   "outputs": [],
   "source": [
    "dfinfo2.to_csv('TMDB_subset.csv')"
   ]
  }
 ],
 "metadata": {
  "kernelspec": {
   "display_name": "Python 3",
   "language": "python",
   "name": "python3"
  },
  "language_info": {
   "codemirror_mode": {
    "name": "ipython",
    "version": 3
   },
   "file_extension": ".py",
   "mimetype": "text/x-python",
   "name": "python",
   "nbconvert_exporter": "python",
   "pygments_lexer": "ipython3",
   "version": "3.7.3"
  }
 },
 "nbformat": 4,
 "nbformat_minor": 4
}
